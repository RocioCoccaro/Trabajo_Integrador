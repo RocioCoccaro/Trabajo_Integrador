{
 "cells": [
  {
   "cell_type": "code",
   "execution_count": null,
   "id": "2d17c2bc",
   "metadata": {},
   "outputs": [],
   "source": [
    "import os, time\n",
    "NEO4J_PASSWORD = os.getenv(\"NEO4J_PASSWORD\", \"neo4j123\")\n",
    "MONGO_USER = os.getenv(\"MONGO_INITDB_ROOT_USERNAME\", \"admin\")\n",
    "MONGO_PASS = os.getenv(\"MONGO_INITDB_ROOT_PASSWORD\", \"admin123\")\n",
    "REDIS_PASSWORD = os.getenv(\"REDIS_PASSWORD\", \"redis123\")"
   ]
  }
 ],
 "metadata": {
  "language_info": {
   "name": "python"
  }
 },
 "nbformat": 4,
 "nbformat_minor": 5
}
