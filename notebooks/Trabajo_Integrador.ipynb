{
 "cells": [
  {
   "cell_type": "markdown",
   "id": "d799e93c",
   "metadata": {},
   "source": [
    "# Trabajo Integrador Base de Datos\n",
    "En el siguiente trabajo modelaremos un Sistema de Gestión y Recomendación de Viajes a través de distintas bases de datos. Logrando cumplir los siguientes objetivos:\n",
    "* Almacenar información de usuarios, historial de reservas, destinos turísticos, hoteles, actividades disponibles y precios asociados. \n",
    "* Gestionar datos temporales como búsquedas recientes o reservas en proceso. \n",
    "* Relaciones de conocimeinto entre usuarios, relaciones de usuarios y destinos. "
   ]
  },
  {
   "cell_type": "code",
   "execution_count": 7,
   "id": "8014fcb6",
   "metadata": {},
   "outputs": [],
   "source": [
    "from neo4j import GraphDatabase\n",
    "from pymongo import MongoClient\n",
    "import redis"
   ]
  },
  {
   "cell_type": "markdown",
   "id": "86b7407b",
   "metadata": {},
   "source": [
    "## Se realiza la carga de datos"
   ]
  },
  {
   "cell_type": "markdown",
   "id": "140d3651",
   "metadata": {},
   "source": [
    "### Usuarios:\n",
    "Usando MongoDB los definimos con un id_usuario, un nombre, email y teléfono. "
   ]
  },
  {
   "cell_type": "code",
   "execution_count": 8,
   "id": "e99f8f13",
   "metadata": {},
   "outputs": [],
   "source": [
    "usuarios = [\n",
    "    {\"id_usuario\": 1, \"nombre\": \"Lucrecia Martínez Pastur\", \"email\": \"lucreciapastur@gmail.com\", \"telefono\": \"+54 2901587087\"},\n",
    "    {\"id_usuario\": 2, \"nombre\": \"Rocio Coccaro\", \"email\": \"rociococcaro@gmail.com\", \"telefono\": \"+54 221701563\"},\n",
    "    {\"id_usuario\": 3, \"nombre\": \"Gregorio Gonzalez\", \"email\": \"gregz@gmail.com\", \"telefono\": \"+54 2901444243\"},\n",
    "    {\"id_usuario\": 4, \"nombre\": \"Isabela Rodriguez\", \"email\": \"isarod@gmail.com\", \"telefono\": \"+54 011546321\"},\n",
    "    {\"id_usuario\": 5, \"nombre\": \"Conrado Maris\", \"email\": \"conramaris@gmail.com\", \"telefono\": \"+54 383512789\"},\n",
    "    {\"id_usuario\": 6, \"nombre\": \"Delfina Gomez\", \"email\": \"delfinag@gmail.com\", \"telefono\": \"+54 011459891\"},\n",
    "    {\"id_usuario\": 7, \"nombre\": \"Guillermo Juarez\", \"email\": \"gjuarez@gmail.com\", \"telefono\": \"+54 362461597\"},\n",
    "    {\"id_usuario\": 8, \"nombre\": \"Ema Fernandez\", \"email\": \"emmafer@gmail.com\", \"telefono\": \"+54 280421542\"},\n",
    "    {\"id_usuario\": 9, \"nombre\": \"Benjamin Alvarez\", \"email\": \"benja123@gmail.com\", \"telefono\": \"+54 351497625\"},\n",
    "    {\"id_usuario\": 10, \"nombre\": \"Olivia Lopez\", \"email\": \"olivia999@gmail.com\", \"telefono\": \"+54 343959599\"},\n",
    "    {\"id_usuario\": 11, \"nombre\": \"Mateo Sosa\", \"email\": \"tomasmate@gmail.com\", \"telefono\": \"+54 2954454447\"},\n",
    "    {\"id_usuario\": 12, \"nombre\": \"Emilia Martinez\", \"email\": \"emimarti@gmail.com\", \"telefono\": \"+54 380789454\"},\n",
    "    {\"id_usuario\": 13, \"nombre\": \"Lorenzo Torres\", \"email\": \"loretorre@gmail.com\", \"telefono\": \"+54 376855419\"},\n",
    "    {\"id_usuario\": 14, \"nombre\": \"Valentina Diaz\", \"email\": \"valendiaz@gmail.com\", \"telefono\": \"+54 299494644\"},\n",
    "    {\"id_usuario\": 15, \"nombre\": \"Joaquin Ruiz\", \"email\": \"joacoruiz@gmail.com\", \"telefono\": \"+54 2920131651\"},\n",
    "    {\"id_usuario\": 16, \"nombre\": \"Martina Sanchez\", \"email\": \"martis@gmail.com\", \"telefono\": \"+54 264484615\"},\n",
    "    {\"id_usuario\": 17, \"nombre\": \"Santino Ramirez\", \"email\": \"santinorami@gmail.com\", \"telefono\": \"+54 266947546\"},\n",
    "    {\"id_usuario\": 18, \"nombre\": \"Catalina Romero\", \"email\": \"catarome@gmail.com\", \"telefono\": \"+54 385491913\"},\n",
    "    {\"id_usuario\": 19, \"nombre\": \"Juan Flores\", \"email\": \"juanflor@gmail.com\", \"telefono\": \"+54 \"},\n",
    "    {\"id_usuario\": 20, \"nombre\": \"Sofia Hernandez\", \"email\": \"sofiher@gmail.com\", \"telefono\": \"+54 385060540\"}\n",
    "]\n"
   ]
  },
  {
   "cell_type": "markdown",
   "id": "3f97fbe7",
   "metadata": {},
   "source": [
    "### Destinos:\n",
    "Usando MongoDB los definimos con un id_destino, ciudad, provincia, país, un tipo (que puede ser: cosera, lacustre, ribereña, urbana, llanura, serrana, montaña, cuyana), y un precio promedio. "
   ]
  },
  {
   "cell_type": "code",
   "execution_count": 9,
   "id": "65f9c649",
   "metadata": {},
   "outputs": [],
   "source": [
    "destinos=[\n",
    "    {\"id_destino\": 1, \"ciudad\": \"Ushuaia\", \"provincia\": \"Tierra del Fuego\", \"pais\": \"Argentina\", \"tipo\": \"Montaña\", \"precio_promedio\": 150000},\n",
    "    {\"id_destino\": 2, \"ciudad\": \"Calafate\", \"provincia\": \"Santa Cruz\", \"pais\": \"Argentina\", \"tipo\": \"Lacustre\", \"precio_promedio\": 120000},\n",
    "    {\"id_destino\": 3, \"ciudad\": \"El Chalten\", \"provincia\": \"Santa Cruz\", \"pais\": \"Argentina\", \"tipo\": \"Montaña\", \"precio_promedio\": 700000},\n",
    "    {\"id_destino\": 4, \"ciudad\": \"Puerto Madrin\", \"provincia\": \"Chubut\", \"pais\": \"Argentina\", \"tipo\": \"Costera\", \"precio_promedio\": 90000},\n",
    "    {\"id_destino\": 5, \"ciudad\": \"Bariloche\", \"provincia\": \"Rio Negro\", \"pais\": \"Argentina\", \"tipo\": \"Montaña\", \"precio_promedio\": 130000},\n",
    "    {\"id_destino\": 6, \"ciudad\": \"San Martin de los Andes\", \"provincia\": \"Rio Negro\", \"pais\": \"Argentina\", \"tipo\": \"Montaña\", \"precio_promedio\": 90000},\n",
    "    {\"id_destino\": 7, \"ciudad\": \"San Rafael\", \"provincia\": \"Mendoza\", \"pais\": \"Argentina\", \"tipo\": \"Serrana\", \"precio_promedio\": 120000},\n",
    "    {\"id_destino\": 8, \"ciudad\": \"Mendoza\", \"provincia\": \"Mendoza\", \"pais\": \"Argentina\", \"tipo\": \"Serrana\", \"precio_promedio\": 90000},\n",
    "    {\"id_destino\": 9, \"ciudad\": \"Cordoba\", \"provincia\": \"Cordoba\", \"pais\": \"Argentina\", \"tipo\": \"Urbana\", \"precio_promedio\": 130000},\n",
    "    {\"id_destino\": 10, \"ciudad\": \"Villa General Belgrano\", \"provincia\": \"Cordoba\", \"pais\": \"Argentina\", \"tipo\": \"Serrana\", \"precio_promedio\": 130000},\n",
    "    {\"id_destino\": 11, \"ciudad\": \"Buenos Aires\", \"provincia\": \"Buenos Aires\", \"pais\": \"Argentina\", \"tipo\": \"Urbana\", \"precio_promedio\": 90000},\n",
    "    {\"id_destino\": 12, \"ciudad\": \"La Plata\", \"provincia\": \"Buenos Aires\", \"pais\": \"Argentina\", \"tipo\": \"Urbana\", \"precio_promedio\": 70000},\n",
    "    {\"id_destino\": 13, \"ciudad\": \"Mar del Plata\", \"provincia\": \"Buenos Aires\", \"pais\": \"Argentina\", \"tipo\": \"Costera\", \"precio_promedio\": 90000},\n",
    "    {\"id_destino\": 14, \"ciudad\": \"Monte Hermoso\", \"provincia\": \"Buenos Aires\", \"pais\": \"Argentina\", \"tipo\": \"Costera\", \"precio_promedio\": 80000},\n",
    "    {\"id_destino\": 15, \"ciudad\": \"Tandil\", \"provincia\": \"Buenos Aires\", \"pais\": \"Argentina\", \"tipo\": \"Llanura\", \"precio_promedio\": 100000},\n",
    "    {\"id_destino\": 16, \"ciudad\": \"Bahía Blanca\", \"provincia\": \"Buenos Aires\", \"pais\": \"Argentina\", \"tipo\": \"Urbana\", \"precio_promedio\": 80000},\n",
    "    {\"id_destino\": 17, \"ciudad\": \"Gualeguaychu\", \"provincia\": \"Entre Rios\", \"pais\": \"Argentina\", \"tipo\": \"Ribereña\", \"precio_promedio\": 70000},\n",
    "    {\"id_destino\": 18, \"ciudad\": \"Puerto Iguazu\", \"provincia\": \"Misiones\", \"pais\": \"Argentina\", \"tipo\": \"Ribereña\", \"precio_promedio\": 90000},\n",
    "    {\"id_destino\": 19, \"ciudad\": \"San Miguel de Tucuman\", \"provincia\": \"Tucuman\", \"pais\": \"Argentina\", \"tipo\": \"Llanura\", \"precio_promedio\": 60000},\n",
    "    {\"id_destino\": 20, \"ciudad\": \"Tilcara\", \"provincia\": \"Jujuy\", \"pais\": \"Argentina\", \"tipo\": \"Llanura\", \"precio_promedio\": 50000},\n",
    "]\n"
   ]
  },
  {
   "cell_type": "markdown",
   "id": "5fd8ff92",
   "metadata": {},
   "source": [
    "### Hoteles:\n",
    "Usando MongoDB los definimos con un id_hotel, nombre, precio, clasificación, y servicios (que pueden ser: wifi, desayuno, restaurante, áreas comunes, estacionamiento, entretenimeinto, pileta y gimnasio). "
   ]
  },
  {
   "cell_type": "code",
   "execution_count": 10,
   "id": "061efc38",
   "metadata": {},
   "outputs": [],
   "source": [
    "hoteles=[\n",
    "    {\"id_hotel\": 1, \"nombre\": \"Arakur\", \"ciudad\": \"Ushuaia\", \"precio\": 375000, \"calificacion\": 5, \"servicios\": [\"wifi\", \"desayuno\", \"restaurante\", \"areas comunes\", \"estacionamiento\", \"entretenimiento\", \"pileta\", \"gimnasio\"]},\n",
    "    {\"id_hotel\": 2, \"nombre\": \"Los Cauquenes\", \"ciudad\": \"Ushuaia\", \"precio\": 260000, \"calificacion\": 5, \"servicios\": [\"wifi\", \"desayuno\", \"restaurante\", \"areas comunes\", \"estacionamiento\", \"entretenimiento\", \"pileta\", \"gimnasio\"]},\n",
    "    {\"id_hotel\": 3, \"nombre\": \"Las Lengas\", \"ciudad\": \"Ushuaia\", \"precio\": 116000, \"calificacion\": 3, \"servicios\": [\"wifi\", \"desayuno\", \"restaurante\", \"estacionamiento\"]},\n",
    "    {\"id_hotel\": 4, \"nombre\": \"Kalken\", \"ciudad\": \"Calafate\", \"precio\": 144000, \"calificacion\": 3, \"servicios\": [\"wifi\", \"desayuno\", \"areas comunes\", \"estacionamiento\"]},\n",
    "    {\"id_hotel\": 5, \"nombre\": \"Chalten Suites Hotel\", \"ciudad\": \"El Chalten\", \"precio\": 168000, \"calificacion\": 3, \"servicios\": [\"wifi\", \"desayuno\", \"areas comunes\", \"estacionamiento\"]}\n",
    "]"
   ]
  },
  {
   "cell_type": "markdown",
   "id": "8ddbeea5",
   "metadata": {},
   "source": [
    "### Actividades:\n",
    "Usando MongoDB las definimos con un id_actividad, nombre, tipo (que puede ser: aventura, cultural, treking, gastronomico, recreativo, informativo o bienestar), ciudad y precio. "
   ]
  },
  {
   "cell_type": "code",
   "execution_count": 11,
   "id": "6ebb3d65",
   "metadata": {},
   "outputs": [],
   "source": [
    "actividades=[\n",
    "    {\"id_actividad\": 1, \"nombre\": \"Visita al Museo Maritimo y ex presidio de Ushuaia\", \"tipo\": \"Cultural\", \"ciudad\": \"Ushuaia\", \"precio\": 10000},\n",
    "    {\"id_actividad\": 2, \"nombre\": \"Navegacion a la pinguinera\", \"tipo\": \"Aventura\", \"ciudad\": \"Ushuaia\", \"precio\": 150000},\n",
    "    {\"id_actividad\": 3, \"nombre\": \"Treking a la Laguna Esmeralda\", \"tipo\": \"Treking\", \"ciudad\": \"Ushuaia\", \"precio\": 50000},\n",
    "    {\"id_actividad\": 4, \"nombre\": \"Navegacion junto al glaciar Perito Moreno\", \"tipo\": \"Aventura\", \"ciudad\": \"Calafate\", \"precio\": 100000},\n",
    "    {\"id_actividad\": 5, \"nombre\": \"Caminata sobre el glaciar Perito Moreno\", \"tipo\": \"Aventura\", \"ciudad\": \"Calafate\", \"precio\": 200000}\n",
    "]"
   ]
  },
  {
   "cell_type": "markdown",
   "id": "afe3ca56",
   "metadata": {},
   "source": [
    "### Reservas:\n",
    "Usando MongoDB las definimos con un id_reserva, id_usuario, id_destino, fecha de reserva, estado (que puede ser: pendiente, confirmada, pagada o cancelada) y un precio total. "
   ]
  },
  {
   "cell_type": "code",
   "execution_count": 13,
   "id": "b0a1aef2",
   "metadata": {},
   "outputs": [],
   "source": [
    "reservas=[\n",
    "    {\"id_reserva\": 1, \"id_usuario\": 1, \"id_destino\": 2, \"fecha_reserva\": \"2024-01-01\", \"estado\": \"Confirmada\", \"precio_total\": 200000},\n",
    "    {\"id_reserva\": 2, \"id_usuario\": 5, \"id_destino\": 9, \"fecha_reserva\": \"2024-01-15\", \"estado\": \"Cancelada\", \"precio_total\": 250000},\n",
    "    {\"id_reserva\": 3, \"id_usuario\": 3, \"id_destino\": 4, \"fecha_reserva\": \"2024-01-30\", \"estado\": \"Pagada\", \"precio_total\": 130000},\n",
    "    {\"id_reserva\": 4, \"id_usuario\": 2, \"id_destino\": 1, \"fecha_reserva\": \"2024-02-14\", \"estado\": \"Pendiente\", \"precio_total\": 100000},\n",
    "    {\"id_reserva\": 5, \"id_usuario\": 8, \"id_destino\": 3, \"fecha_reserva\": \"2024-02-27\", \"estado\": \"Confirmada\", \"precio_total\": 150000},\n",
    "    {\"id_reserva\": 6, \"id_usuario\": 4, \"id_destino\": 17, \"fecha_reserva\": \"2024-03-04\", \"estado\": \"Confirmada\", \"precio_total\": 120000},\n",
    "    {\"id_reserva\": 7, \"id_usuario\": 20, \"id_destino\": 3, \"fecha_reserva\": \"2024-03-19\", \"estado\": \"Cancelada\", \"precio_total\": 70000},\n",
    "    {\"id_reserva\": 8, \"id_usuario\": 15, \"id_destino\": 11, \"fecha_reserva\": \"2024-04-30\", \"estado\": \"Pagada\", \"precio_total\": 90000},\n",
    "    {\"id_reserva\": 9, \"id_usuario\": 10, \"id_destino\": 13, \"fecha_reserva\": \"2024-06-12\", \"estado\": \"Cancelada\", \"precio_total\": 150000},\n",
    "    {\"id_reserva\": 10, \"id_usuario\": 6, \"id_destino\": 19, \"fecha_reserva\": \"2024-07-11\", \"estado\": \"Pendiente\", \"precio_total\": 60000},\n",
    "    {\"id_reserva\": 11, \"id_usuario\": 13, \"id_destino\": 7, \"fecha_reserva\": \"2024-08-05\", \"estado\": \"Confirmada\", \"precio_total\": 300000},\n",
    "    {\"id_reserva\": 12, \"id_usuario\": 11, \"id_destino\": 16, \"fecha_reserva\": \"2024-09-24\", \"esatdo\": \"Pendiente\", \"precio_total\": 80000},\n",
    "    {\"id_reserva\": 13, \"id_usuario\": 18, \"id_destino\": 20, \"fecha_reserva\": \"2024-11-29\", \"estado\": \"Cancelada\", \"precio_total\": 70000},\n",
    "    {\"id_reserva\": 14, \"id_usuario\": 9, \"id_destino\": 15, \"fecha_reserva\": \"2024-12-10\", \"estado\": \"Pendiente\", \"precio_total\": 150000},\n",
    "    {\"id_reserva\": 15, \"id_usuario\": 7, \"id_destino\": 6, \"fecha_reserva\": \"2024-12-15\", \"esatdo\": \"Confirmada\", \"precio_total\": 80000},\n",
    "    {\"id_reserva\": 16, \"id_usuario\": 12, \"id_destino\": 14, \"fecha_reserva\": \"2024-12-20\", \"estado\": \"Cancelada\", \"precio_total\": 70000},\n",
    "    {\"id_reserva\": 17, \"id_usuario\": 16, \"id_destino\": 18, \"fecha_reserva\": \"2024-12-24\", \"estado\": \"Pagada\", \"precio_total\": 150000},\n",
    "    {\"id_reserva\": 18, \"id_usuario\": 8, \"id_destino\": 12, \"fecha_reserva\": \"2025-01-01\", \"estado\": \"Confirmada\", \"precio_total\": 120000},\n",
    "    {\"id_reserva\": 19, \"id_usuario\": 14, \"id_destino\": 10, \"fecha_reserva\": \"2025-01-02\", \"estado\": \"Cancelada\", \"precio_total\": 70000},\n",
    "    {\"id_reserva\": 20, \"id_usuario\": 19, \"id_destino\": 5, \"fecha_reserva\": \"2025-01-15\", \"estado\": \"Pagada\", \"precio_total\": 90000},\n",
    "    {\"id_reserva\": 21, \"id_usuario\": 17, \"id_destino\": 8, \"fecha_reserva\": \"2025-02-05\", \"estado\": \"Cancelada\", \"precio_total\": 150000}\n",
    "]"
   ]
  },
  {
   "cell_type": "markdown",
   "id": "6d3aab2c",
   "metadata": {},
   "source": [
    "### Caché de búsquedas:\n",
    "Usando Redis"
   ]
  },
  {
   "cell_type": "code",
   "execution_count": null,
   "id": "1e471ee7",
   "metadata": {},
   "outputs": [],
   "source": []
  },
  {
   "cell_type": "markdown",
   "id": "fe957d9a",
   "metadata": {},
   "source": [
    "### Usuarios conectados:\n",
    "Usando Redis definimos una clase \"Usuario\" con los datos del id y el nombre. "
   ]
  },
  {
   "cell_type": "code",
   "execution_count": 21,
   "id": "1cdff918",
   "metadata": {},
   "outputs": [
    {
     "ename": "SyntaxError",
     "evalue": "invalid syntax (3324099642.py, line 1)",
     "output_type": "error",
     "traceback": [
      "  \u001b[36mCell\u001b[39m\u001b[36m \u001b[39m\u001b[32mIn[21]\u001b[39m\u001b[32m, line 1\u001b[39m\n\u001b[31m    \u001b[39m\u001b[31mset a:Usuario {\"id_usuario\": 1, \"nombre\": \"Lucrecia Martínez Pastur\"}\u001b[39m\n        ^\n\u001b[31mSyntaxError\u001b[39m\u001b[31m:\u001b[39m invalid syntax\n"
     ]
    }
   ],
   "source": [
    "set a:Usuario {\"id_usuario\": 1, \"nombre\": \"Lucrecia Martínez Pastur\"}\n",
    "set b:Usuario {\"id_usuario\": 3, \"nombre\": \"Gregorio Gonzalez\"}\n",
    "set c:Usuario {\"id_usuario\": 6, \"nombre\": \"Delfina Gomez\"}\n",
    "set d:Usuario {\"id_usuario\": 13, \"nombre\": \"Lorenzo Torres\"}\n",
    "set e:Usuario {\"id_usuario\": 16, \"nombre\": \"Martina Sanchez\"}"
   ]
  }
 ],
 "metadata": {
  "kernelspec": {
   "display_name": "Python 3 (ipykernel)",
   "language": "python",
   "name": "python3"
  },
  "language_info": {
   "codemirror_mode": {
    "name": "ipython",
    "version": 3
   },
   "file_extension": ".py",
   "mimetype": "text/x-python",
   "name": "python",
   "nbconvert_exporter": "python",
   "pygments_lexer": "ipython3",
   "version": "3.11.14"
  }
 },
 "nbformat": 4,
 "nbformat_minor": 5
}
